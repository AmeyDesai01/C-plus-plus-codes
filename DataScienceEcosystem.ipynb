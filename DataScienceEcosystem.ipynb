{
 "cells": [
  {
   "cell_type": "markdown",
   "id": "a307717d",
   "metadata": {},
   "source": [
    "# Data Science Tools and Ecosystem"
   ]
  },
  {
   "cell_type": "markdown",
   "id": "d99f8e19",
   "metadata": {},
   "source": [
    "## In this notebook, Data Science Tools and Ecosystem are summarized.\n"
   ]
  },
  {
   "cell_type": "markdown",
   "id": "77e774be",
   "metadata": {},
   "source": [
    "### Some of the popular languages that Data Scientists use are: \n",
    "\n",
    "1. Python\n",
    "2. R\n",
    "3. Scala\n",
    "4. SQL\n",
    "5. JavaScript"
   ]
  },
  {
   "cell_type": "markdown",
   "id": "ff2e9b28",
   "metadata": {},
   "source": [
    "# Some of the commonly used libraries used by Data Scientists include:\n",
    "\n",
    "1. TensorFlow.\n",
    "2. NumPy.\n",
    "3. SciPy.\n",
    "4. Pandas.\n",
    "5. Matplotlib.\n",
    "6. Keras."
   ]
  },
  {
   "cell_type": "markdown",
   "id": "8f1fcaaa",
   "metadata": {},
   "source": [
    "# Data Science Tools\n",
    "\n",
    "1. SAS\n",
    "2. Apache Spark\n",
    "3. BigML\n",
    "4. D3.js\n",
    "5. MATLAB\n",
    "6. Excel\n",
    "7. ggplot2"
   ]
  },
  {
   "cell_type": "markdown",
   "id": "d7365d56",
   "metadata": {},
   "source": [
    "### Below are a few examples of evaluating arithmetic expressions in Python"
   ]
  },
  {
   "cell_type": "code",
   "execution_count": 3,
   "id": "d0cea6bd",
   "metadata": {},
   "outputs": [
    {
     "name": "stdout",
     "output_type": "stream",
     "text": [
      "17\n"
     ]
    }
   ],
   "source": [
    "#This a simple arithmetic expression to mutiply then add integers.\n",
    "\n",
    "print((3*4)+5)"
   ]
  },
  {
   "cell_type": "code",
   "execution_count": 7,
   "id": "b6ee566f",
   "metadata": {},
   "outputs": [
    {
     "name": "stdout",
     "output_type": "stream",
     "text": [
      "3.33\n"
     ]
    }
   ],
   "source": [
    "#This will convert 200 minutes to hours by diving by 60.\n",
    "\n",
    "x = round(200/60,2)\n",
    "print (x)\n"
   ]
  },
  {
   "cell_type": "markdown",
   "id": "c09778f7",
   "metadata": {},
   "source": [
    "# Objectives:\n",
    "\n",
    "* Python  \n",
    "* R.\n",
    "* SQL.\n",
    "* Java.\n",
    "* Scala.\n",
    "* JavaScript."
   ]
  },
  {
   "cell_type": "markdown",
   "id": "3b877b47",
   "metadata": {},
   "source": [
    "## Author\n",
    "\n",
    "AMEY DESAI"
   ]
  },
  {
   "cell_type": "code",
   "execution_count": null,
   "id": "c322ff25",
   "metadata": {},
   "outputs": [],
   "source": []
  }
 ],
 "metadata": {
  "kernelspec": {
   "display_name": "Python 3 (ipykernel)",
   "language": "python",
   "name": "python3"
  },
  "language_info": {
   "codemirror_mode": {
    "name": "ipython",
    "version": 3
   },
   "file_extension": ".py",
   "mimetype": "text/x-python",
   "name": "python",
   "nbconvert_exporter": "python",
   "pygments_lexer": "ipython3",
   "version": "3.9.7"
  }
 },
 "nbformat": 4,
 "nbformat_minor": 5
}
